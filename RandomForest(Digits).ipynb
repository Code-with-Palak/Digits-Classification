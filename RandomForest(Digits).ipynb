{
  "nbformat": 4,
  "nbformat_minor": 0,
  "metadata": {
    "colab": {
      "name": "RandomForest(Digits).ipynb",
      "provenance": [],
      "collapsed_sections": []
    },
    "kernelspec": {
      "name": "python3",
      "display_name": "Python 3"
    },
    "language_info": {
      "name": "python"
    },
    "accelerator": "GPU"
  },
  "cells": [
    {
      "cell_type": "markdown",
      "metadata": {
        "id": "i1zfgL0WjD4O"
      },
      "source": [
        "# **Random Forest Classifier**\n",
        "A classification algorithm!\n",
        "\n",
        "Here our task is to read the txt format files from the folders and assign them their classes so as to predict the undefined. Data has been fetched in the form of array. Input data is carrying images of digits in different hand writing. So here our aim to train the model and try to predict on some undefined images."
      ]
    },
    {
      "cell_type": "markdown",
      "metadata": {
        "id": "nC99yyREoor4"
      },
      "source": [
        "### Importing the required libraries!"
      ]
    },
    {
      "cell_type": "code",
      "metadata": {
        "id": "Y4LV6zkV_Fm4"
      },
      "source": [
        "import glob\n",
        "import numpy as np\n",
        "import pandas as pd\n",
        "import matplotlib.pyplot as plt\n",
        "from sklearn.ensemble import RandomForestClassifier\n",
        "from sklearn.metrics import classification_report,plot_confusion_matrix, roc_auc_score, roc_curve, log_loss"
      ],
      "execution_count": 6,
      "outputs": []
    },
    {
      "cell_type": "markdown",
      "metadata": {
        "id": "ib175Q93L6G6"
      },
      "source": [
        "### Fetching the data in the form of textfiles, separately"
      ]
    },
    {
      "cell_type": "code",
      "metadata": {
        "id": "T1ItsStgsCtC"
      },
      "source": [
        "# Defining the path to input data\n",
        "train_path = glob.glob('/content/drive/MyDrive/Tasks/task(reg,knn,naive,tree)/kNN/digits.zip (Unzipped Files)/trainingDigits/*')\n",
        "test_path = glob.glob('/content/drive/MyDrive/Tasks/task(reg,knn,naive,tree)/kNN/digits.zip (Unzipped Files)/testDigits/*')"
      ],
      "execution_count": 2,
      "outputs": []
    },
    {
      "cell_type": "markdown",
      "metadata": {
        "id": "paJemx0wMId1"
      },
      "source": [
        "### Converting data into arrays"
      ]
    },
    {
      "cell_type": "code",
      "metadata": {
        "id": "IrMlV2ALTS6y"
      },
      "source": [
        "# Fetch method is constructed in a manner so as to read all the text format images and convert them into an array \n",
        "def fetch_data(path):\n",
        "  images = []\n",
        "  label = []\n",
        "  for i in range(len(path)):\n",
        "    \n",
        "    if(path[i].find('0_')!=-1):\n",
        "      data = pd.read_csv(path[i])\n",
        "      z = np.array(data)\n",
        "\n",
        "      out=[]\n",
        "      for x in z:\n",
        "          inside=[]\n",
        "          for i in x[0][:-1]:\n",
        "              inside.append(int(i))\n",
        "          out.append(inside)\n",
        "      #out = np.array(out)\n",
        "      images.append(out)\n",
        "      label.append(0)\n",
        "\n",
        "    elif(path[i].find('1_')!=-1):\n",
        "      data = pd.read_csv(path[i])\n",
        "      z = np.array(data)\n",
        "      out=[]\n",
        "      for x in z:\n",
        "          inside=[]\n",
        "          for i in x[0][:-1]:\n",
        "              inside.append(int(i))\n",
        "          out.append(inside)\n",
        "      #out = np.array(out)\n",
        "      images.append(out)\n",
        "      label.append(1)\n",
        "\n",
        "    elif(path[i].find('2_')!=-1):\n",
        "      data = pd.read_csv(path[i])\n",
        "      z = np.array(data)\n",
        "      out=[]\n",
        "      for x in z:\n",
        "          inside=[]\n",
        "          for i in x[0][:-1]:\n",
        "              inside.append(int(i))\n",
        "          out.append(inside)\n",
        "      #out = np.array(out)\n",
        "      images.append(out)\n",
        "      label.append(2)\n",
        "\n",
        "    elif(path[i].find('3_')!=-1):\n",
        "      data = pd.read_csv(path[i])\n",
        "      z = np.array(data)\n",
        "      out=[]\n",
        "      for x in z:\n",
        "          inside=[]\n",
        "          for i in x[0][:-1]:\n",
        "              inside.append(int(i))\n",
        "          out.append(inside)\n",
        "      #out = np.array(out)\n",
        "      images.append(out)\n",
        "      label.append(3)\n",
        "\n",
        "    elif(path[i].find('4_')!=-1):\n",
        "      data = pd.read_csv(path[i])\n",
        "      z = np.array(data)\n",
        "      out=[]\n",
        "      for x in z:\n",
        "        inside=[]\n",
        "        for i in x[0][:-1]:\n",
        "            inside.append(int(i))\n",
        "        out.append(inside)\n",
        "      #out = np.array(out)\n",
        "      images.append(out)\n",
        "      label.append(4)\n",
        "\n",
        "    elif(path[i].find('5_')!=-1):\n",
        "      data = pd.read_csv(path[i])\n",
        "      z = np.array(data)\n",
        "      out=[]\n",
        "      for x in z:\n",
        "          inside=[]\n",
        "          for i in x[0][:-1]:\n",
        "              inside.append(int(i))\n",
        "          out.append(inside)\n",
        "      #out = np.array(out)\n",
        "      images.append(out)\n",
        "      label.append(5)\n",
        "    elif(path[i].find('6_')!=-1):\n",
        "      data = pd.read_csv(path[i])\n",
        "      z = np.array(data)\n",
        "      out=[]\n",
        "      for x in z:\n",
        "          inside=[]\n",
        "          for i in x[0][:-1]:\n",
        "              inside.append(int(i))\n",
        "          out.append(inside)\n",
        "      #out = np.array(out)\n",
        "      images.append(out)\n",
        "      label.append(6)\n",
        "\n",
        "    elif(path[i].find('7_')!=-1):\n",
        "      data = pd.read_csv(path[i])\n",
        "      z = np.array(data)\n",
        "      out=[]\n",
        "      for x in z:\n",
        "          inside=[]\n",
        "          for i in x[0][:-1]:\n",
        "              inside.append(int(i))\n",
        "          out.append(inside)\n",
        "      #out = np.array(out)\n",
        "      images.append(out)\n",
        "      label.append(7)\n",
        "\n",
        "    elif(path[i].find('8_')!=-1):\n",
        "      data = pd.read_csv(path[i])\n",
        "      z = np.array(data)\n",
        "      out=[]\n",
        "      for x in z:\n",
        "          inside=[]\n",
        "          for i in x[0][:-1]:\n",
        "              inside.append(int(i))\n",
        "          out.append(inside)\n",
        "      #out = np.array(out)\n",
        "      images.append(out)\n",
        "      label.append(8)\n",
        "\n",
        "    elif(path[i].find('9_')!=-1):\n",
        "      data = pd.read_csv(path[i])\n",
        "      z = np.array(data)\n",
        "      out=[]\n",
        "      for x in z:\n",
        "          inside=[]\n",
        "          for i in x[0][:-1]:\n",
        "              inside.append(int(i))\n",
        "          out.append(inside)\n",
        "      #out = np.array(out)\n",
        "      images.append(out)\n",
        "      label.append(9)\n",
        "  label = np.array(label)\n",
        "  images = np.asarray(images,dtype='float')\n",
        "  \n",
        "  return images, label\n"
      ],
      "execution_count": 4,
      "outputs": []
    },
    {
      "cell_type": "markdown",
      "metadata": {
        "id": "m78YkLErqZvT"
      },
      "source": [
        "There are many methods to take input but here we have to make our algorithm flexible, so keeping in mind the inputs taken by algorithms, this function is designed."
      ]
    },
    {
      "cell_type": "code",
      "metadata": {
        "id": "6gWr3PbAo4CN"
      },
      "source": [
        "# Reading the data and transforming them into arrays\n",
        "X_train, y_train = fetch_data(train_path)\n",
        "X_test, y_test = fetch_data(test_path)"
      ],
      "execution_count": 5,
      "outputs": []
    },
    {
      "cell_type": "markdown",
      "metadata": {
        "id": "pivVjpcyT_sm"
      },
      "source": [
        "# Visualizing \n",
        "\n",
        "All types of images inserted. All the images are neccesarily converted into array format as it is required by the classifier."
      ]
    },
    {
      "cell_type": "code",
      "metadata": {
        "colab": {
          "base_uri": "https://localhost:8080/",
          "height": 550
        },
        "id": "-EOzeTkOyscr",
        "outputId": "7fa9a2c1-5cd4-45ee-d287-7781845b74d8"
      },
      "source": [
        "plt.matshow(X_train[1200])\n",
        "plt.matshow(X_train[1400])"
      ],
      "execution_count": 7,
      "outputs": [
        {
          "output_type": "execute_result",
          "data": {
            "text/plain": [
              "<matplotlib.image.AxesImage at 0x7fe254b11210>"
            ]
          },
          "metadata": {
            "tags": []
          },
          "execution_count": 7
        },
        {
          "output_type": "display_data",
          "data": {
            "image/png": "[encoded data removed]",
            "text/plain": [
              "<Figure size 288x288 with 1 Axes>"
            ]
          },
          "metadata": {
            "tags": [],
            "needs_background": "light"
          }
        },
        {
          "output_type": "display_data",
          "data": {
            "image/png": "[encoded data removed]",
            "text/plain": [
              "<Figure size 288x288 with 1 Axes>"
            ]
          },
          "metadata": {
            "tags": [],
            "needs_background": "light"
          }
        }
      ]
    },
    {
      "cell_type": "code",
      "metadata": {
        "colab": {
          "base_uri": "https://localhost:8080/",
          "height": 550
        },
        "id": "JkE8DKbgzOju",
        "outputId": "2a7179d7-d6bd-43bd-ae74-8ccb9aeb0876"
      },
      "source": [
        "plt.matshow(X_train[1700])\n",
        "plt.matshow(X_train[0])"
      ],
      "execution_count": 8,
      "outputs": [
        {
          "output_type": "execute_result",
          "data": {
            "text/plain": [
              "<matplotlib.image.AxesImage at 0x7fe25538d550>"
            ]
          },
          "metadata": {
            "tags": []
          },
          "execution_count": 8
        },
        {
          "output_type": "display_data",
          "data": {
            "image/png": "[encoded data removed]",
            "text/plain": [
              "<Figure size 288x288 with 1 Axes>"
            ]
          },
          "metadata": {
            "tags": [],
            "needs_background": "light"
          }
        },
        {
          "output_type": "display_data",
          "data": {
            "image/png": "[encoded data removed]",
            "text/plain": [
              "<Figure size 288x288 with 1 Axes>"
            ]
          },
          "metadata": {
            "tags": [],
            "needs_background": "light"
          }
        }
      ]
    },
    {
      "cell_type": "code",
      "metadata": {
        "colab": {
          "base_uri": "https://localhost:8080/",
          "height": 550
        },
        "id": "jCQjD8sWzUXz",
        "outputId": "9c1594d6-5edf-4ea9-f2e4-3b2dab1e1a38"
      },
      "source": [
        "plt.matshow(X_train[100])\n",
        "plt.matshow(X_train[300])"
      ],
      "execution_count": 9,
      "outputs": [
        {
          "output_type": "execute_result",
          "data": {
            "text/plain": [
              "<matplotlib.image.AxesImage at 0x7fe2551c1dd0>"
            ]
          },
          "metadata": {
            "tags": []
          },
          "execution_count": 9
        },
        {
          "output_type": "display_data",
          "data": {
            "image/png": "[encoded data removed]",
            "text/plain": [
              "<Figure size 288x288 with 1 Axes>"
            ]
          },
          "metadata": {
            "tags": [],
            "needs_background": "light"
          }
        },
        {
          "output_type": "display_data",
          "data": {
            "image/png": "[encoded data removed]",
            "text/plain": [
              "<Figure size 288x288 with 1 Axes>"
            ]
          },
          "metadata": {
            "tags": [],
            "needs_background": "light"
          }
        }
      ]
    },
    {
      "cell_type": "code",
      "metadata": {
        "colab": {
          "base_uri": "https://localhost:8080/",
          "height": 550
        },
        "id": "PwQxsYcgzWqB",
        "outputId": "54825906-e8f1-40da-c18c-ec149ab6634b"
      },
      "source": [
        "plt.matshow(X_train[500])\n",
        "plt.matshow(X_train[700])"
      ],
      "execution_count": 10,
      "outputs": [
        {
          "output_type": "execute_result",
          "data": {
            "text/plain": [
              "<matplotlib.image.AxesImage at 0x7fe2551febd0>"
            ]
          },
          "metadata": {
            "tags": []
          },
          "execution_count": 10
        },
        {
          "output_type": "display_data",
          "data": {
            "image/png": "[encoded data removed]",
            "text/plain": [
              "<Figure size 288x288 with 1 Axes>"
            ]
          },
          "metadata": {
            "tags": [],
            "needs_background": "light"
          }
        },
        {
          "output_type": "display_data",
          "data": {
            "image/png": "[encoded data removed]",
            "text/plain": [
              "<Figure size 288x288 with 1 Axes>"
            ]
          },
          "metadata": {
            "tags": [],
            "needs_background": "light"
          }
        }
      ]
    },
    {
      "cell_type": "code",
      "metadata": {
        "colab": {
          "base_uri": "https://localhost:8080/",
          "height": 292
        },
        "id": "V1qMAp69zsRY",
        "outputId": "5a561257-c50a-41fd-902d-019c6c264457"
      },
      "source": [
        "plt.matshow(X_train[905])"
      ],
      "execution_count": 11,
      "outputs": [
        {
          "output_type": "execute_result",
          "data": {
            "text/plain": [
              "<matplotlib.image.AxesImage at 0x7fe254a8bf50>"
            ]
          },
          "metadata": {
            "tags": []
          },
          "execution_count": 11
        },
        {
          "output_type": "display_data",
          "data": {
            "image/png": "[encoded data removed]",
            "text/plain": [
              "<Figure size 288x288 with 1 Axes>"
            ]
          },
          "metadata": {
            "tags": [],
            "needs_background": "light"
          }
        }
      ]
    },
    {
      "cell_type": "code",
      "metadata": {
        "colab": {
          "base_uri": "https://localhost:8080/"
        },
        "id": "-OVf3_-WuPg5",
        "outputId": "3fb6da2d-fc8a-4fe8-aa60-b548ddf19326"
      },
      "source": [
        "X_test.shape"
      ],
      "execution_count": 12,
      "outputs": [
        {
          "output_type": "execute_result",
          "data": {
            "text/plain": [
              "(946, 31, 31)"
            ]
          },
          "metadata": {
            "tags": []
          },
          "execution_count": 12
        }
      ]
    },
    {
      "cell_type": "code",
      "metadata": {
        "id": "eqYGaoCIt_Yf"
      },
      "source": [
        "X_train = X_train.reshape(X_train.shape[0],-1)\n",
        "X_test = X_test.reshape(X_test.shape[0],-1)"
      ],
      "execution_count": 13,
      "outputs": []
    },
    {
      "cell_type": "markdown",
      "metadata": {
        "id": "dLahHU_6MTHP"
      },
      "source": [
        "Reshaping the array so make it suitable for the input of machine learning algorithm "
      ]
    },
    {
      "cell_type": "code",
      "metadata": {
        "id": "vU5uTZQilVwW",
        "colab": {
          "base_uri": "https://localhost:8080/"
        },
        "outputId": "25d8fc4d-09db-46ea-aed9-9c2160a2938f"
      },
      "source": [
        "X_train.shape"
      ],
      "execution_count": 14,
      "outputs": [
        {
          "output_type": "execute_result",
          "data": {
            "text/plain": [
              "(1934, 961)"
            ]
          },
          "metadata": {
            "tags": []
          },
          "execution_count": 14
        }
      ]
    },
    {
      "cell_type": "markdown",
      "metadata": {
        "id": "G5t0hGyqqvRQ"
      },
      "source": [
        "## Model Training"
      ]
    },
    {
      "cell_type": "code",
      "metadata": {
        "colab": {
          "base_uri": "https://localhost:8080/"
        },
        "id": "hsI6-Iw-QOB6",
        "outputId": "467a24ae-789e-481e-c693-52168fa0210b"
      },
      "source": [
        "# Random Forest Classifier\n",
        "RFC = RandomForestClassifier(7)\n",
        "RFC.fit(X_train,y_train)"
      ],
      "execution_count": 15,
      "outputs": [
        {
          "output_type": "execute_result",
          "data": {
            "text/plain": [
              "RandomForestClassifier(bootstrap=True, ccp_alpha=0.0, class_weight=None,\n",
              "                       criterion='gini', max_depth=None, max_features='auto',\n",
              "                       max_leaf_nodes=None, max_samples=None,\n",
              "                       min_impurity_decrease=0.0, min_impurity_split=None,\n",
              "                       min_samples_leaf=1, min_samples_split=2,\n",
              "                       min_weight_fraction_leaf=0.0, n_estimators=7,\n",
              "                       n_jobs=None, oob_score=False, random_state=None,\n",
              "                       verbose=0, warm_start=False)"
            ]
          },
          "metadata": {
            "tags": []
          },
          "execution_count": 15
        }
      ]
    },
    {
      "cell_type": "code",
      "metadata": {
        "id": "Z7M18qFRlVyq"
      },
      "source": [
        "# Prediction\n",
        "pred = RFC.predict(X_test)"
      ],
      "execution_count": 16,
      "outputs": []
    },
    {
      "cell_type": "markdown",
      "metadata": {
        "id": "ZSPobXOCq38C"
      },
      "source": [
        "# Results\n",
        "\n",
        "Evaluating the performance of classification."
      ]
    },
    {
      "cell_type": "code",
      "metadata": {
        "id": "y-mvCtd8lV1r",
        "colab": {
          "base_uri": "https://localhost:8080/"
        },
        "outputId": "a68eb19c-2d19-4714-90b2-7137788b5c4c"
      },
      "source": [
        "print(classification_report(y_test,pred))"
      ],
      "execution_count": 17,
      "outputs": [
        {
          "output_type": "stream",
          "text": [
            "              precision    recall  f1-score   support\n",
            "\n",
            "           0       0.98      1.00      0.99        87\n",
            "           1       0.90      0.96      0.93        97\n",
            "           2       0.95      0.97      0.96        92\n",
            "           3       0.93      0.91      0.92        85\n",
            "           4       0.97      0.97      0.97       114\n",
            "           5       0.95      0.97      0.96       108\n",
            "           6       0.97      0.99      0.98        87\n",
            "           7       0.96      0.97      0.96        96\n",
            "           8       0.94      0.89      0.92        91\n",
            "           9       0.96      0.85      0.90        89\n",
            "\n",
            "    accuracy                           0.95       946\n",
            "   macro avg       0.95      0.95      0.95       946\n",
            "weighted avg       0.95      0.95      0.95       946\n",
            "\n"
          ],
          "name": "stdout"
        }
      ]
    },
    {
      "cell_type": "markdown",
      "metadata": {
        "id": "UQtb1Dj9MZzw"
      },
      "source": [
        "Above report show the classifier has attains 95% accuracy."
      ]
    },
    {
      "cell_type": "code",
      "metadata": {
        "colab": {
          "base_uri": "https://localhost:8080/",
          "height": 296
        },
        "id": "YdjaV98F-6sP",
        "outputId": "f2c56c1e-4fc6-4ecd-a9e7-71c86bff5614"
      },
      "source": [
        "# Confusion Matrix\n",
        "plot_confusion_matrix(RFC, X_test, y_test)"
      ],
      "execution_count": 18,
      "outputs": [
        {
          "output_type": "execute_result",
          "data": {
            "text/plain": [
              "<sklearn.metrics._plot.confusion_matrix.ConfusionMatrixDisplay at 0x7fe254aa0850>"
            ]
          },
          "metadata": {
            "tags": []
          },
          "execution_count": 18
        },
        {
          "output_type": "display_data",
          "data": {
            "image/png": "[encoded data removed]",
            "text/plain": [
              "<Figure size 432x288 with 2 Axes>"
            ]
          },
          "metadata": {
            "tags": [],
            "needs_background": "light"
          }
        }
      ]
    },
    {
      "cell_type": "markdown",
      "metadata": {
        "id": "PNQF0Tm5Mf87"
      },
      "source": [
        "Above confusion matrix is showing some correct and wrong prediction given by the classifer. "
      ]
    },
    {
      "cell_type": "code",
      "metadata": {
        "colab": {
          "base_uri": "https://localhost:8080/"
        },
        "id": "DJ4lh9UhRqSZ",
        "outputId": "2c6af416-6534-42b8-ebe7-a178e1f420c0"
      },
      "source": [
        "roc_auc_score(y_test, RFC.predict_proba(X_test), multi_class='ovr')"
      ],
      "execution_count": 22,
      "outputs": [
        {
          "output_type": "execute_result",
          "data": {
            "text/plain": [
              "0.9946218469703275"
            ]
          },
          "metadata": {
            "tags": []
          },
          "execution_count": 22
        }
      ]
    },
    {
      "cell_type": "code",
      "metadata": {
        "id": "_iaBl_bOUPYv"
      },
      "source": [
        ""
      ],
      "execution_count": null,
      "outputs": []
    }
  ]
}